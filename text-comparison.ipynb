{
 "cells": [
  {
   "cell_type": "code",
   "execution_count": 1,
   "metadata": {},
   "outputs": [
    {
     "data": {
      "text/plain": [
       "True"
      ]
     },
     "execution_count": 1,
     "metadata": {},
     "output_type": "execute_result"
    }
   ],
   "source": [
    "# import installed libraries\n",
    "from dotenv import load_dotenv\n",
    "import os\n",
    "import json\n",
    "from openai import AzureOpenAI\n",
    "import re\n",
    "import openai\n",
    "import asyncio\n",
    "import nest_asyncio\n",
    "\n",
    "\n",
    "# load environment variables\n",
    "load_dotenv(override=True)"
   ]
  },
  {
   "cell_type": "code",
   "execution_count": 2,
   "metadata": {},
   "outputs": [],
   "source": [
    "# define openai Client\n",
    "aoai_api_key = os.getenv(\"AZURE_OPENAI_KEY\")\n",
    "aoai_api_endpoint =  os.getenv(\"AZURE_OPENAI_ENDPOINT\")\n",
    "aoai_api_deployment_name = os.getenv(\"AZURE_OPENAI_DEPLOYMENT_NAME\")\n",
    "\n",
    "client = AzureOpenAI(\n",
    "    api_key=aoai_api_key,\n",
    "    api_version=\"2024-08-01-preview\",\n",
    "    azure_endpoint=aoai_api_endpoint\n",
    ")"
   ]
  },
  {
   "cell_type": "code",
   "execution_count": 3,
   "metadata": {},
   "outputs": [],
   "source": [
    "original_text = os.path.join(os.getcwd(), \"data\", \"DRAFT_Acolad_2023 - English.md\")\n",
    "translated_text = os.path.join(os.getcwd(), \"data\", \"DRAFT_Acolad_2023_V2 - English.md\")\n",
    "\n",
    "with open(original_text, 'r') as file:\n",
    "    original_text = file.read()\n",
    "\n",
    "with open(translated_text, 'r') as file:\n",
    "    translated_text = file.read()\n",
    "    \n",
    "    "
   ]
  },
  {
   "cell_type": "code",
   "execution_count": 19,
   "metadata": {},
   "outputs": [],
   "source": [
    "import numpy as np\n",
    "from langchain.text_splitter import MarkdownTextSplitter\n",
    "\n",
    "def get_embedding(text, deployment=\"text-embedding-ada-002\"):\n",
    "    response = client.embeddings.create(\n",
    "        input=text,\n",
    "        model=deployment  # In Azure, use the deployment name here\n",
    "    )\n",
    "    return response.data[0].embedding\n",
    "\n",
    "# Function to compute cosine similarity\n",
    "def cosine_similarity(vec1, vec2):\n",
    "    return np.dot(vec1, vec2) / (np.linalg.norm(vec1) * np.linalg.norm(vec2))\n",
    "\n",
    "# Chunk markdown\n",
    "def chunk_markdown(text, chunk_size=1000):\n",
    "    splitter = MarkdownTextSplitter(chunk_size=chunk_size, chunk_overlap=0)\n",
    "    return splitter.split_text(text)\n"
   ]
  },
  {
   "cell_type": "code",
   "execution_count": 21,
   "metadata": {},
   "outputs": [
    {
     "name": "stdout",
     "output_type": "stream",
     "text": [
      "✅ Results saved to chunk_similarity_results.json\n"
     ]
    }
   ],
   "source": [
    "# Chunk both texts\n",
    "original_chunks = chunk_markdown(original_text)\n",
    "translated_chunks = chunk_markdown(translated_text)\n",
    "\n",
    "# Ensure both have the same number of chunks\n",
    "min_len = min(len(original_chunks), len(translated_chunks))\n",
    "original_chunks = original_chunks[:min_len]\n",
    "translated_chunks = translated_chunks[:min_len]\n",
    "\n",
    "# Compute embeddings for each chunk\n",
    "original_embeddings = [get_embedding(chunk) for chunk in original_chunks]\n",
    "translated_embeddings = [get_embedding(chunk) for chunk in translated_chunks]\n",
    "\n",
    "# Compute similarity scores per chunk and prepare JSON output\n",
    "chunk_results = []\n",
    "for i, (orig, trans, orig_emb, trans_emb) in enumerate(zip(original_chunks, translated_chunks, original_embeddings, translated_embeddings)):\n",
    "    similarity = cosine_similarity(orig_emb, trans_emb)\n",
    "    chunk_results.append({\n",
    "        \"chunk_id\": i + 1,\n",
    "        \"original_chunk\": orig,\n",
    "        \"translated_back_chunk\": trans,\n",
    "        \"similarity_score\": round(similarity, 4)\n",
    "    })\n",
    "\n",
    "# Write results to a JSON file\n",
    "output_filename = \"chunk_similarity_results.json\"\n",
    "with open(output_filename, \"w\", encoding=\"utf-8\") as f:\n",
    "    json.dump(chunk_results, f, indent=4, ensure_ascii=False)\n",
    "\n",
    "print(f\"✅ Results saved to {output_filename}\")"
   ]
  }
 ],
 "metadata": {
  "kernelspec": {
   "display_name": "Python 3",
   "language": "python",
   "name": "python3"
  },
  "language_info": {
   "codemirror_mode": {
    "name": "ipython",
    "version": 3
   },
   "file_extension": ".py",
   "mimetype": "text/x-python",
   "name": "python",
   "nbconvert_exporter": "python",
   "pygments_lexer": "ipython3",
   "version": "3.11.9"
  }
 },
 "nbformat": 4,
 "nbformat_minor": 2
}
