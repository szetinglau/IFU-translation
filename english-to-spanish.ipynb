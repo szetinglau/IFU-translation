{
  "cells": [
    {
      "cell_type": "code",
      "execution_count": null,
      "metadata": {
        "gather": {
          "logged": 1711035286804
        },
        "jupyter": {
          "outputs_hidden": false,
          "source_hidden": false
        },
        "nteract": {
          "transient": {
            "deleting": false
          }
        }
      },
      "outputs": [],
      "source": [
        "#%pip install --force-reinstall -r requirements.txt"
      ]
    },
    {
      "cell_type": "code",
      "execution_count": 1,
      "metadata": {
        "gather": {
          "logged": 1721150839381
        }
      },
      "outputs": [
        {
          "data": {
            "text/plain": [
              "True"
            ]
          },
          "execution_count": 1,
          "metadata": {},
          "output_type": "execute_result"
        }
      ],
      "source": [
        "# import installed libraries\n",
        "from dotenv import load_dotenv\n",
        "import os\n",
        "import json\n",
        "from openai import AzureOpenAI\n",
        "import re\n",
        "\n",
        "\n",
        "# load environment variables\n",
        "load_dotenv(override=True)\n"
      ]
    },
    {
      "cell_type": "code",
      "execution_count": 2,
      "metadata": {},
      "outputs": [
        {
          "name": "stdout",
          "output_type": "stream",
          "text": [
            "c:\\Users\\juhyunlee\\workspace\\notebooks\\IFU-translation\\data\\DRAFT_Acolad_2023 - English.md\n"
          ]
        }
      ],
      "source": [
        "# loading the markdown file\n",
        "markdown_file = os.path.join(os.getcwd(), \"data\", \"DRAFT_Acolad_2023 - English.md\")\n",
        "print(markdown_file)\n",
        "with open(markdown_file, 'r') as file:\n",
        "    data = file.read()"
      ]
    },
    {
      "cell_type": "markdown",
      "metadata": {},
      "source": [
        "### Initializing the Azure OpenAI Client"
      ]
    },
    {
      "cell_type": "code",
      "execution_count": 3,
      "metadata": {
        "gather": {
          "logged": 1721150850295
        }
      },
      "outputs": [],
      "source": [
        "# define openai Client\n",
        "aoai_api_key = os.getenv(\"AZURE_OPENAI_KEY\")\n",
        "aoai_api_endpoint =  os.getenv(\"AZURE_OPENAI_ENDPOINT\")\n",
        "aoai_api_deployment_name = os.getenv(\"AZURE_OPENAI_DEPLOYMENT_NAME\")\n",
        "\n",
        "client = AzureOpenAI(\n",
        "    api_key=aoai_api_key,\n",
        "    api_version=\"2024-08-01-preview\",\n",
        "    azure_endpoint=aoai_api_endpoint\n",
        ")"
      ]
    },
    {
      "cell_type": "code",
      "execution_count": 4,
      "metadata": {
        "gather": {
          "logged": 1721150856670
        }
      },
      "outputs": [
        {
          "name": "stdout",
          "output_type": "stream",
          "text": [
            "<figure>\n",
            "\n",
            "<!-- PageHeader=\"T Instructions for Use\" -->\n",
            "\n",
            "</figure>\n",
            "\n",
            "\n",
            "en\n",
            "\n",
            "STRATAFIX™ Spiral MONOCRYL™ Plus\n",
            "Dispositivo de Control de Tejido sin Nudos\n",
            "Antibacteriano\n",
            "Monofilamento Sintético sin Teñir\n",
            "Dispositivo Absorbible Unidireccional\n",
            "\n",
            "\n",
            "# Descripción\n",
            "\n",
            "El Dispositivo de Control de Tejido sin Nudos STRATAFIX™ Spiral MONOCRYL™ Plus es un dispositivo estéril, antibacteriano, monofilamento, sintético y absorbible compuesto por un copolímero de 100% en peso de glicólido y E-caprolactona. La fórmula empírica del copolímero es (C, H, O,)_(C H O). Se ha encontrado que el copolímero Poliglecaprone 25 no es pirogénico y solo provoca una leve reacción tisular durante la absorción.\n",
            "\n",
            "El Dispositivo STRATAFIX™ Spiral MONOCRYL™ Plus contiene IRGACARE®+ MP (triclosán), un agente antibacteriano de amplio espectro, en no más de 2360 µg/m. El Dispositivo STRATAFIX™ Spiral MONOCRYL™ Plus, Diseño de Bucle Variable, consiste en material de sutura con púas, armado con una aguja quirúrgica en un extremo y un bucle de fijación en el extremo opuesto. El Dispositivo STRATAFIX™ Spiral MONOCRYL™ Plus está diseñado para anclarse con un bucle cerrado en un extremo y una sección con púas unidireccionales en el otro extremo. Las púas del Dispositivo STRATAFIX™ Spiral MONOCRYL™ Plus están orientadas en una dirección para permitir la aproximación de los tejidos sin necesidad de atar nudos quirúrgicos.\n",
            "\n",
            "Aunque la formación de púas en el Dispositivo STRATAFIX™ Spiral MONOCRYL™ Plus reduce la resistencia a la tracción en comparación con el material de sutura sin púas del mismo tamaño, el atado de nudos en materiales de sutura sin púas también reduce su resistencia efectiva. Por esta razón, la resistencia del Dispositivo STRATAFIX™ Spiral MONOCRYL™ Plus puede compararse con la resistencia de nudos de la Farmacopea de los Estados Unidos (USP) de suturas sin púas. Las designaciones USP para el diámetro se utilizan para describir el material de sutura del Dispositivo STRATAFIX™ Spiral MONOCRYL™ Plus después de la formación de púas, excepto por una variación menor en el diámetro de la sutura con un exceso máximo de 0.1 mm.\n",
            "\n",
            "El Dispositivo STRATAFIX™ Spiral MONOCRYL™ Plus está disponible en una gama de tamaños de calibre y longitudes, unido a agujas de varios tipos y tamaños, y en presentaciones como se describe en la sección Cómo se Suministra.\n",
            "\n",
            "La Farmacopea Europea (Ph. Eur.) reconoce las unidades de medida Métricas y los tamaños Ph. Eur. como equivalentes, lo cual se refleja en el etiquetado. Los tamaños USP y Ph. Eur. del Dispositivo STRATAFIX™ Spiral MONOCRYL™ Plus se definen más en la Tabla 1.\n",
            "\n",
            "\n",
            "<table>\n",
            "<caption>Tabla 1. Comparación de Diámetros</caption>\n",
            "<tr>\n",
            "<th rowspan=\"2\">Designación del Tamaño del Dispositivo USP</th>\n",
            "<th>Tamaño del Dispositivo Ph. Eur.</th>\n",
            "<th colspan=\"2\">STRATAFIX™ Spiral MONOCRYL™ Plus</th>\n",
            "</tr>\n",
            "<tr>\n",
            "<th>(Métrica/Ph.Eur.) Designación</th>\n",
            "<th>USP</th>\n",
            "<th>Métrica/ Ph. Eur.</th>\n",
            "</tr>\n",
            "<tr>\n",
            "<td>2-0</td>\n",
            "<td>3</td>\n",
            "<td>2-0</td>\n",
            "<td>3</td>\n",
            "</tr>\n",
            "<tr>\n",
            "<td>3-0</td>\n",
            "<td>2</td>\n",
            "<td>3-0</td>\n",
            "<td>2</td>\n",
            "</tr>\n",
            "<tr>\n",
            "<td>4-0</td>\n",
            "<td>1.5</td>\n",
            "<td>4-0</td>\n",
            "<td>1.5</td>\n",
            "</tr>\n",
            "</table>\n",
            "\n",
            "\n",
            "El Dispositivo STRATAFIX™ Spiral MONOCRYL™ Plus está destinado para uso exclusivo de profesionales de la salud capacitados en técnicas de sutura quirúrgica, incluyendo el uso del Dispositivo STRATAFIX™ Spiral MONOCRYL™ Plus.\n",
            "\n",
            "Los beneficios clínicos esperados de la aproximación de tejidos blandos son promover la cicatrización de heridas por primera intención.\n",
            "\n",
            "Un resumen de la seguridad y el rendimiento clínico se puede encontrar en el siguiente enlace (una vez activado): https://ec.europa.eu/tools/eudamed.\n",
            "\n",
            "\n",
            "## Resistencia a la Tracción\n",
            "\n",
            "La resistencia a la tracción recta del Dispositivo STRATAFIX™ Spiral MONOCRYL™ Plus es mayor que la resistencia a la tracción de nudos para un dispositivo de poliglecaprone 25 de tamaño equivalente según la Farmacopea USP y la Farmacopea Europea, como se muestra en la Tabla 2.\n",
            "\n",
            "\n",
            "<table>\n",
            "<caption>Tabla 2. Comparación de Resistencia a la Tracción</caption>\n",
            "<tr>\n",
            "<th rowspan=\"2\">Designación del Tamaño del Dispositivo USP</th>\n",
            "<th rowspan=\"2\">Designación del Tamaño del Dispositivo Ph. Eur. (Métrica/ Ph. Eur.)</th>\n",
            "<th colspan=\"2\">Resistencia Mínima a la Tracción de Nudos del Dispositivo</th>\n",
            "</tr>\n",
            "<tr>\n",
            "<th>USP (kgf)</th>\n",
            "<th>Métrica/ Ph. Eur. (N)</th>\n",
            "</tr>\n",
            "<tr>\n",
            "<td>2-0</td>\n",
            "<td>3</td>\n",
            "<td>2.68</td>\n",
            "<td>26.8</td>\n",
            "</tr>\n",
            "<tr>\n",
            "<td>3-0</td>\n",
            "<td>2</td>\n",
            "<td>1.77</td>\n",
            "<td>17.5</td>\n",
            "</tr>\n",
            "<tr>\n",
            "<td>4-0</td>\n",
            "<td>1.5</td>\n",
            "<td>0.95</td>\n",
            "<td>9.5</td>\n",
            "</tr>\n",
            "</table>\n",
            "\n",
            "\n",
            "# Indicaciones / Uso Previsto\n",
            "\n",
            "El Dispositivo STRATAFIX™ Spiral MONOCRYL™ Plus está indicado para su uso en la aproximación de tejidos blandos donde el uso de suturas absorbibles es apropiado.\n",
            "\n",
            "\n",
            "## Contraindicaciones\n",
            "\n",
            "El Dispositivo STRATAFIX™ Spiral MONOCRYL™ Plus no debe usarse donde se requiera una aproximación prolongada de tejidos bajo tensión, como en el cierre de la fascia. Este dispositivo no debe usarse en conjunto con o para la fijación de dispositivos protésicos (por ejemplo, válvulas cardíacas o injertos sintéticos) que no sean absorbibles por naturaleza. El Dispositivo STRATAFIX™ Spiral MONOCRYL™ Plus no debe usarse en pacientes con reacciones alérgicas conocidas (hipersensibilidad local) a IRGACARE®+ MP (triclosán).\n",
            "\n",
            "\n",
            "### Advertencias\n",
            "\n",
            "La seguridad y efectividad del Dispositivo STRATAFIX™ Spiral MONOCRYL™ Plus no se han establecido en las siguientes áreas: cierres fasciales (incluyendo cierres fasciales de la pared abdominal, torácica y de extremidades), anastomosis gastrointestinales, cirugía oftálmica o microcirugía, cardiovascular, neural, ósea o tendinosa.\n",
            "\n",
            "Los profesionales de la salud deben estar familiarizados con los procedimientos quirúrgicos y técnicas que involucren dispositivos con púas absorbibles antes de emplear el Dispositivo STRATAFIX™ Spiral MONOCRYL™ Plus para el cierre de heridas, ya que el riesgo de separación de tejidos / dehiscencia de la herida que conduce a una cicatrización deficiente puede variar según el sitio de aplicación y el material del dispositivo utilizado. Los profesionales de la salud deben considerar el rendimiento in vivo (bajo la sección Rendimiento / Acciones) al seleccionar un dispositivo para su uso en pacientes.\n",
            "\n",
            "Se deben seguir las prácticas quirúrgicas aceptables para el manejo de heridas contaminadas o infectadas.\n",
            "\n",
            "Dado que este es un dispositivo absorbible, el uso de suturas no absorbibles suplementarias debe ser considerado por el profesional de la salud en el cierre de los sitios que puedan experimentar expansión, estiramiento o distensión, o que puedan requerir soporte adicional.\n",
            "\n",
            "El uso del Dispositivo STRATAFIX™ Spiral MONOCRYL™ Plus no sustituye la observancia normal de la higiene y/o el tratamiento antibiótico necesario.\n",
            "\n",
            "Los profesionales de la salud deben considerar la cantidad y calidad del tejido en el que se anclará el bucle. El uso de este dispositivo puede ser inapropiado en tejido altamente vascularizado o frágil que no pueda soportar un posible ajuste/estrangulamiento adicional dentro del bucle.\n",
            "\n",
            "Obstrucción del intestino delgado (SBO): incluyendo vólvulo, infarto intestinal y morbilidad significativa, se han reportado debido a púas o extremos de sutura con púas que se enganchan en el intestino delgado adyacente y/o mesenterio, como en el cierre peritoneal.\n",
            "\n",
            "Se debe tener cuidado para evitar dejar extremos de sutura con púas adyacentes al peritoneo en el cierre de tejido extra-peritoneal.\n",
            "\n",
            "Evite el contacto del Dispositivo STRATAFIX™ Spiral MONOCRYL™ Plus con otros materiales (por ejemplo, gasas quirúrgicas, campos, etc.) en el campo quirúrgico para evitar que se enganchen en las púas. Si las púas se enganchan, tire cuidadosamente del material en la dirección opuesta a la aguja para desengancharlo de las púas.\n",
            "\n",
            "No reesterilice/reutilice. La reutilización de este dispositivo (o partes de este dispositivo) puede crear un riesgo de degradación del producto que puede resultar en falla del dispositivo y/o contaminación cruzada que puede llevar a infección o transmisión de patógenos transmitidos por la sangre a pacientes y profesionales de la salud.\n",
            "\n",
            "Como dispositivo absorbible, este dispositivo puede actuar transitoriamente como un cuerpo extraño. Como con cualquier cuerpo extraño, el contacto prolongado de cualquier dispositivo con soluciones salinas, como las que se encuentran en las vías urinarias o biliares, puede resultar en la formación de cálculos. Como todos los cuerpos extraños, el Dispositivo STRATAFIX™ Spiral MONOCRYL™ Plus puede potenciar la infección.\n",
            "\n",
            "Deseche los dispositivos y paquetes abiertos / parcialmente usados / usados de manera no intencionada.\n",
            "\n",
            "\n",
            "#### Precauciones\n",
            "\n",
            "El Dispositivo STRATAFIX™ Spiral MONOCRYL™ Plus contiene un extremo de bucle y púas para anclar tejidos y no requiere nudos para asegurar el dispositivo. Atar nudos en la sección con púas del dispositivo dañará las púas y potencialmente reducirá su efectividad y puede resultar en un tiempo de cirugía extendido o falla del tratamiento y cirugía adicional. Para que el dispositivo funcione correctamente, el Dispositivo STRATAFIX™ Spiral MONOCRYL™ Plus debe anclarse primero utilizando el bucle de fijación en tejido robusto. Luego, enganche las púas en el tejido en un patrón de cierre estándar. Al completar la colocación del segmento con púas en el tejido subcuticular, realice al menos un pase adicional en la dirección opuesta para bloquear el Dispositivo STRATAFIX™ Spiral MONOCRYL™ Plus en su lugar.\n",
            "\n",
            "Los dispositivos subcuticulares deben colocarse lo más profundamente posible para minimizar el eritema y la induración normalmente asociados con el proceso de absorción. En algunas circunstancias, especialmente en procedimientos ortopédicos, la inmovilización de las articulaciones mediante soporte externo puede ser empleada a discreción del profesional de la salud. Se debe considerar el uso de dispositivos absorbibles en tejidos con mala irrigación sanguínea, ya que puede ocurrir extrusión del dispositivo y absorción retardada.\n",
            "\n",
            "Este dispositivo puede ser inapropiado en pacientes ancianos, desnutridos o debilitados, o en pacientes que sufran de condiciones que puedan retrasar la cicatrización de heridas.\n",
            "\n",
            "Al manipular este o cualquier otro material de dispositivo, se debe tener cuidado para evitar daños. Evite aplastar o dañar debido a la aplicación de instrumentos quirúrgicos como pinzas o portaagujas. No intente eliminar la memoria en el polímero pasando los dedos por el material del dispositivo, ya que esto puede dañar las púas.\n",
            "\n",
            "Se debe tener cuidado para evitar daños al manipular agujas quirúrgicas. Agarre la aguja en un área de un tercio (1/3) a la mitad (1/2) de la distancia desde el extremo de fijación hasta la punta. Agarrar en el área de la punta podría afectar el rendimiento de penetración y causar fractura de la aguja. Agarrar en el extremo de fijación podría causar doblado o rotura. Remodelar las agujas puede hacer que pierdan fuerza y sean menos resistentes al doblado y la rotura.\n",
            "\n",
            "Los profesionales de la salud deben tener precaución al manipular agujas quirúrgicas para evitar lesiones accidentales con agujas que puedan resultar en la transmisión de patógenos transmitidos por la sangre de agujas contaminadas. Las agujas rotas pueden resultar en cirugías extendidas o adicionales o cuerpos extraños residuales. En caso de mal funcionamiento del producto antes de su uso, como una aguja doblada, rota o desprendida, o daño del dispositivo incluyendo las púas, el producto debe desecharse y obtener uno nuevo para comenzar el procedimiento. En caso de mal funcionamiento del producto durante su uso, queda a discreción del profesional de la salud continuar o discontinuar el uso del producto y cómo completar el procedimiento. Consulte la sección Aplicación / Instrucciones de Uso para obtener instrucciones sobre la eliminación del dispositivo.\n",
            "\n",
            "\n",
            "# Reacciones Adversas / Efectos Secundarios Indeseables\n",
            "\n",
            "Las reacciones adversas asociadas con el uso de este dispositivo incluyen separación de tejidos / dehiscencia de la herida que conduce a una cicatrización deficiente o falla en proporcionar un soporte adecuado de la herida en el cierre de los sitios donde ocurre expansión, estiramiento o distensión, y en pacientes ancianos, desnutridos o debilitados o en pacientes que sufran de otras condiciones que puedan retrasar la cicatrización de heridas. Otros eventos adversos asociados incluyen la formación de cálculos en las vías urinarias o biliares cuando ocurre contacto prolongado con soluciones salinas como la orina o la bilis, reacción inflamatoria tisular transitoria, reacción alérgica (hipersensibilidad local) a IRGACARE®+ MP (triclosán), y absorción retardada en tejidos con mala irrigación sanguínea. Puede ocurrir irritación local transitoria y extrusión de la sutura en el sitio de la herida cuando las suturas cutáneas se dejan en su lugar por más de 7 días. Como todos los cuerpos extraños, el Dispositivo STRATAFIX™ Spiral MONOCRYL™ Plus puede potenciar la infección.\n",
            "\n",
            "La rotura del dispositivo puede resultar en hemorragia. El uso inadecuado del dispositivo puede causar lesiones en los tejidos blandos. El daño al dispositivo durante su uso puede causar un tiempo de cirugía extendido o falla del tratamiento y cirugía adicional.\n",
            "\n",
            "Las agujas rotas pueden resultar en cirugías extendidas o adicionales o cuerpos extraños residuales. Las lesiones accidentales con agujas quirúrgicas contaminadas pueden resultar en la transmisión de patógenos transmitidos por la sangre.\n",
            "\n",
            "Los profesionales de la salud deben comunicar las reacciones adversas, efectos secundarios indeseables y riesgos asociados con el producto y el procedimiento al paciente y aconsejar al paciente que contacte a un profesional de la salud en caso de cualquier desviación del curso postoperatorio normal.\n",
            "\n",
            "Cualquier incidente grave que haya ocurrido en relación con el dispositivo debe ser reportado al fabricante y a la autoridad competente del país.\n",
            "\n",
            "\n",
            "## Información de Seguridad sobre Resonancia Magnética (MRI) / Carcinogénico, Mutagénico, Tóxico para la Reproducción (CMR) / Disruptor Endocrino (ED)\n",
            "\n",
            "El Dispositivo STRATAFIX™ Spiral MONOCRYL™ Plus es seguro para MRI. No se conocen sustancias CMR Categoría 1a/1b y ED presentes en >0.1%. Las Categorías 1a/1b se definen como carcinógeno humano conocido o presunto (H340), mutágeno (H350) o tóxico para la reproducción (H360), basado en evidencia humana y estudios en animales.\n",
            "\n",
            "\n",
            "### Aplicación / Instrucciones de Uso\n",
            "\n",
            "El Dispositivo STRATAFIX™ Spiral MONOCRYL™ Plus debe seleccionarse e implantarse dependiendo de la condición del paciente, la experiencia quirúrgica, la técnica quirúrgica y las características de la herida.\n",
            "\n",
            "El Dispositivo STRATAFIX™ Spiral MONOCRYL™ Plus está diseñado para ser utilizado en patrones de sutura continua y está destinado a ser utilizado sin nudos de anclaje para comenzar o terminar la línea del dispositivo.\n",
            "Úselo según sea necesario por el procedimiento quirúrgico.\n",
            "\n",
            "1\\. Asegure la porción del bucle de fijación al tejido robusto tomando una mordida en el tejido designado, pasando la aguja a través del bucle y tirando firmemente alrededor del tejido de anclaje.\n",
            "\n",
            "2\\. Después de que el Dispositivo STRATAFIX™ Spiral MONOCRYL™ Plus esté anclado en el tejido, agarre la hebra y aproxime el tejido a la tensión deseada. Se pueden tomar mordidas, o pases a través del tejido, en una técnica de sutura continua para aproximar la herida. Se debe tener cuidado de utilizar el Dispositivo STRATAFIX™ Spiral MONOCRYL™ Plus solo en los segmentos con púas. No intente aproximar heridas utilizando el segmento sin púas cerca de la aguja, ya que las púas son necesarias para la aproximación exitosa de la herida con el Dispositivo STRATAFIX™ Spiral MONOCRYL™ Plus.\n",
            "\n",
            "3\\. a. Para completar el cierre en el cierre subcuticular, realice al menos un pase en la dirección opuesta. Luego pase la aguja a través de la incisión y tome una mordida de espesor parcial perpendicular a la incisión y salga de la piel.\n",
            "b. Para completar el cierre en todas las demás capas de tejido, realice al menos dos pases en la dirección opuesta para completar el cierre.\n",
            "\n",
            "4\\. Luego tire suavemente del extremo libre del dispositivo y corte al ras con la superficie del tejido.\n",
            "\n",
            "Para retirar todo el Dispositivo STRATAFIX™ Spiral MONOCRYL™ Plus: Corte el Dispositivo STRATAFIX™ Spiral MONOCRYL™ Plus en el extremo anclado con el bucle, y luego tire del extremo distal para retirar el dispositivo.\n",
            "\n",
            "Deseche las agujas en contenedores de \"objetos punzantes\". Deseche los dispositivos y paquetes abiertos / parcialmente usados / usados de manera no intencionada según las políticas y procedimientos de su instalación con respecto a materiales y desechos biopeligrosos.\n",
            "\n",
            "\n",
            "# Rendimiento / Acciones\n",
            "\n",
            "Los resultados de estudios de implantación en animales utilizando el Dispositivo STRATAFIX™ Spiral MONOCRYL™ Plus indican que aproximadamente el 62% de su resistencia original permanece después de 7 días de implantación y aproximadamente el 27% de su resistencia a la tracción original a los 14 días después de la implantación (Tabla 3\n"
          ]
        }
      ],
      "source": [
        "systemPrompt = f\"\"\"\n",
        "Your Task is to translate the given text from English to Spanish:\n",
        "Task:\n",
        "    Step 1: Translate the given text to English, ensuring that the meaning (semantics) of the original text is preserved as closely as possible.\n",
        "    Step 2: Do not translate any text containing \"trademark symbols\" (™ or ®). Keep these parts as is.\n",
        "    Below is the text for translation:\n",
        "    ----------------------------------------\n",
        "\n",
        "    {data}\n",
        "\"\"\"\n",
        "\n",
        "conversaion = [\n",
        "    {\"role\": \"system\", \"content\": systemPrompt},\n",
        "    {\"role\": \"user\", \"content\": \"give me the translation in Spanish\"}\n",
        "]\n",
        "\n",
        "# Send the conversation to the API\n",
        "response = client.chat.completions.create(\n",
        "    model=aoai_api_deployment_name, # The deployment name you chose when you deployed the GPT-35-Turbo or GPT-4 model.\n",
        "    messages=conversaion,\n",
        "    temperature=0.0,\n",
        ")\n",
        "\n",
        "# Print the assistant's response\n",
        "responseText = response.choices[0].message.content\n",
        "print(responseText)"
      ]
    },
    {
      "cell_type": "code",
      "execution_count": 7,
      "metadata": {},
      "outputs": [],
      "source": [
        "# save the responseText to a file with utf-8 encoding\n",
        "output_file = os.path.join(os.getcwd(), \"data\", \"DRAFT_Acolad_2023 - Spanish.md\")\n",
        "with open(output_file, 'w', encoding='utf-8') as file:\n",
        "    file.write(responseText)"
      ]
    }
  ],
  "metadata": {
    "kernel_info": {
      "name": "newenvtf"
    },
    "kernelspec": {
      "display_name": ".venv",
      "language": "python",
      "name": "python3"
    },
    "language_info": {
      "codemirror_mode": {
        "name": "ipython",
        "version": 3
      },
      "file_extension": ".py",
      "mimetype": "text/x-python",
      "name": "python",
      "nbconvert_exporter": "python",
      "pygments_lexer": "ipython3",
      "version": "3.11.9"
    },
    "microsoft": {
      "host": {
        "AzureML": {
          "notebookHasBeenCompleted": true
        }
      },
      "ms_spell_check": {
        "ms_spell_check_language": "en"
      }
    },
    "nteract": {
      "version": "nteract-front-end@1.0.0"
    }
  },
  "nbformat": 4,
  "nbformat_minor": 2
}
